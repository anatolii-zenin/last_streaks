{
 "cells": [
  {
   "cell_type": "code",
   "execution_count": null,
   "metadata": {},
   "outputs": [],
   "source": [
    "import cv2\n",
    "import numpy as np\n",
    "from astropy.io import fits\n",
    "import astropy.io.fits as pyfits\n",
    "import matplotlib.pyplot as plt\n",
    "from matplotlib.colors import LogNorm\n",
    "from matplotlib import cm\n",
    "from astropy.io import fits\n",
    "from skimage.transform import hough_line, hough_line_peaks\n",
    "from skimage.transform import probabilistic_hough_line\n",
    "from skimage.feature import canny\n",
    "from skimage.draw import line\n",
    "from skimage import data\n",
    "from timeit import default_timer as timer\n",
    "from scipy.ndimage.filters import gaussian_filter\n",
    "import numpy.ma as ma\n",
    "import glob\n",
    "import os\n",
    "%matplotlib widget"
   ]
  },
  {
   "cell_type": "code",
   "execution_count": 4,
   "metadata": {},
   "outputs": [],
   "source": [
    "#Directory where smaps of splitted images and full image is stored\n",
    "dataset = 'snr2'\n",
    "image_folder_smaps = '/lustre/fs23/group/icecube/azenin/last/images/last_streaks/last_' + dataset + '_part/'\n",
    "image_folder_image = '/lustre/fs23/group/icecube/azenin/last/images/last_streaks/last_' + dataset + '_new.fit'\n",
    "full_image_file = fits.open(image_folder_image)\n",
    "full_image = full_image_file[0].data\n",
    "#create empty mask for full image\n",
    "mask = np.zeros((full_image.shape[0],full_image.shape[1]))\n",
    "xmax, ymax = mask.shape\n",
    "#properties of subimages and internal stuff\n",
    "x_parts = 5\n",
    "y_parts = 10\n",
    "smap_file = fits.open(image_folder_smaps + 'last_' + dataset + '_x0y0_smap.fit')\n",
    "smap = smap_file[0].data\n",
    "cutoff_smaps = np.zeros((x_parts, y_parts, smap.shape[0], smap.shape[1]))\n",
    "lines_sample = []\n",
    "global_lines = []"
   ]
  },
  {
   "cell_type": "code",
   "execution_count": 24,
   "metadata": {},
   "outputs": [],
   "source": [
    "#IMPORTANT: WE NEED PSF (in pixel size), \n",
    "psf=1.5"
   ]
  },
  {
   "cell_type": "code",
   "execution_count": 29,
   "metadata": {},
   "outputs": [],
   "source": [
    "#Load smaps from splitted input image, calculate cutoff\n",
    "line_array = np.zeros((x_parts, y_parts, 2))\n",
    "for i in range(x_parts):\n",
    "    for j in range(y_parts):\n",
    "        filename = image_folder_smaps + 'last_' + dataset + '_x%d' % i + 'y%d' % j + '_smap.fit' \n",
    "        with fits.open(filename) as hdul:\n",
    "            image=hdul[0].data\n",
    "            image[np.isnan(image)] = 0\n",
    "            histogram = image.flatten()\n",
    "            \"\"\"\n",
    "            plt.hist(histogram, 100)\n",
    "            plt.xlim(0,10)\n",
    "            plt.yscale('log')\n",
    "            \"\"\"\n",
    "            try:\n",
    "                histogram=histogram[histogram < 0]\n",
    "                quantile = np.quantile(histogram, 0.32)\n",
    "            except:\n",
    "                quantile = 0\n",
    "            cutoff = abs(quantile)\n",
    "            image[image < cutoff] = 0\n",
    "            cutoff_smaps[i][j] = image\n",
    "            \"\"\"\n",
    "            plt.imshow(image, cmap='gray')\n",
    "            plt.colorbar()\n",
    "            plt.show()\n",
    "            \"\"\""
   ]
  },
  {
   "cell_type": "code",
   "execution_count": 42,
   "metadata": {},
   "outputs": [
    {
     "name": "stdout",
     "output_type": "stream",
     "text": [
      "536\n"
     ]
    }
   ],
   "source": [
    "global_lines = []\n",
    "#Do canny and hough for line finding\n",
    "# Anatolii:\n",
    "# Changed this part to make it append global lines instead \n",
    "for i in range(cutoff_smaps.shape[0]):\n",
    "    for j in range(cutoff_smaps.shape[1]):\n",
    "        start2 = timer()\n",
    "        #edges = canny(cutoff_smaps[i][j], 5*psf, 0.8)\n",
    "        lines = list(probabilistic_hough_line(cutoff_smaps[i][j], threshold=0, line_length=int(15*psf), line_gap=int(1*psf)))\n",
    "        for k in range(len(lines)):\n",
    "            xd=lines[k][0][0]-lines[k][1][0]\n",
    "            yd=lines[j][0][1]-lines[j][1][1]\n",
    "            dist = np.sqrt(np.power(xd, 2) + np.power(yd, 2))\n",
    "            if dist < 30*psf:\n",
    "#                 print('line is too short')\n",
    "                continue\n",
    "            lines[k] = list(lines[k])\n",
    "            lines[k][0] = list(lines[k][0])\n",
    "            lines[k][1] = list(lines[k][1])\n",
    "            lines[k][0][0] += j*smap.shape[1]\n",
    "            lines[k][1][0] += j*smap.shape[1]\n",
    "            lines[k][0][1] += i*smap.shape[0]\n",
    "            lines[k][1][1] += i*smap.shape[0]\n",
    "#             print(\"modified: %d, %d; i = %d, j = %d\" % (lines[k][0][0], lines[k][0][1], i, j))\n",
    "#             if(lines[k][0][0] < (i+1) * smap.shape[0] and lines[k][0][1] < (j+1) * smap.shape[1] and lines[k][1][0] < (i+1) * smap.shape[0] and lines[k][1][1] < (j+1) * smap.shape[1]):\n",
    "            global_lines.append(lines[k])\n",
    "print(len(global_lines))\n",
    "#output is list of arrays, where start and end-points of found lines are listed\n",
    "#not a list of tuples or lists?"
   ]
  },
  {
   "cell_type": "code",
   "execution_count": 94,
   "metadata": {},
   "outputs": [
    {
     "data": {
      "application/vnd.jupyter.widget-view+json": {
       "model_id": "3f9da7b182c547188ef1565eae950141",
       "version_major": 2,
       "version_minor": 0
      },
      "text/plain": [
       "Canvas(toolbar=Toolbar(toolitems=[('Home', 'Reset original view', 'home', 'home'), ('Back', 'Back to previous …"
      ]
     },
     "metadata": {},
     "output_type": "display_data"
    }
   ],
   "source": [
    "%matplotlib widget\n",
    "fig, axes = plt.subplots(1, 2, sharex=True, sharey=True)\n",
    "ax = axes.ravel()\n",
    "\n",
    "ax[0].imshow(full_image, cmap=cm.gray, norm=LogNorm())\n",
    "ax[0].set_title('Input image')\n",
    "\n",
    "ax[1].imshow(full_image * 0)\n",
    "for line in global_lines:\n",
    "    p0, p1 = line\n",
    "    ax[1].plot((p0[0], p1[0]), (p0[1], p1[1]))\n",
    "#ax[1].set_xlim((0,full_image.shape[1]))\n",
    "#ax[1].set_ylim((full_image.shape[0], 0))\n",
    "ax[1].set_title('Probabilistic Hough')\n",
    "\n",
    "for a in ax:\n",
    "    a.set_axis_off()\n",
    "\n",
    "plt.tight_layout()\n",
    "plt.show()\n",
    "#Here we need the code to get the global coordinates for the found lines in lines_sample\n",
    "# line_array = np.zeros((x_parts, y_parts, 2))\n",
    "# for i in range(x_parts):\n",
    "#     for j in range(y_parts):\n",
    "#         line_array[i][j][0] = lines[i*y_parts+j][0]\n",
    "#         line_array[i][j][1] = lines[i*y_parts+j][1]\n",
    "#Output should be an list of all global line coordinates (global_lines)"
   ]
  },
  {
   "cell_type": "code",
   "execution_count": 97,
   "metadata": {},
   "outputs": [],
   "source": [
    "mask = np.zeros((full_image.shape[0],full_image.shape[1]))\n",
    "#Get with start and end point of lines from hough all touching array cells\n",
    "#HERE IS A FUCKING ERROR, THERE IS SOME SHIFT IN X DIRECTION OF THE LINES\n",
    "def draw_line(mat, y0, y1, x0, x1, inplace=True):\n",
    "    if not (0 <= x0 < mat.shape[0] and 0 <= x1 < mat.shape[0] and\n",
    "            0 <= y0 < mat.shape[1] and 0 <= y1 < mat.shape[1]):\n",
    "        raise ValueError('Invalid coordinates.')\n",
    "    if not inplace:\n",
    "        mat = mat.copy()\n",
    "    if (x0, y0) == (x1, y1):\n",
    "        mat[x0, y0] = 1\n",
    "        return mat if not inplace else None\n",
    "    # Write line ends\n",
    "    mat[x0, y0] = 1\n",
    "    mat[x1, y1] = 1\n",
    "    # Compute intermediate coordinates using line equation\n",
    "    x = np.arange(x0 + 1, x1)\n",
    "    xs=x1-x0\n",
    "    ys=y1-y0\n",
    "    if (xs != 0):\n",
    "        y = np.round(ys/xs * (x - x0) + y0).astype(x.dtype)\n",
    "    else:\n",
    "        return\n",
    "    # Write intermediate coordinates\n",
    "    mat[x, y] = 1\n",
    "    if not inplace:\n",
    "        return mat if not transpose else mat.T\n",
    "\n",
    "    \n",
    "#Here we need global_lines from the missing part before\n",
    "#Place lines in the empty mask\n",
    "for line in global_lines:\n",
    "    p0, p1 = line\n",
    "#     if (p0[1] < xmax and p1[1] < ymax and p0[0] < xmax and p1[0] < ymax):\n",
    "    draw_line(mask, p0[0], p1[0], p0[1], p1[1])"
   ]
  },
  {
   "cell_type": "code",
   "execution_count": 102,
   "metadata": {},
   "outputs": [
    {
     "data": {
      "application/vnd.jupyter.widget-view+json": {
       "model_id": "3bc802509e8a41b0bd36b129825d0a54",
       "version_major": 2,
       "version_minor": 0
      },
      "text/plain": [
       "Canvas(toolbar=Toolbar(toolitems=[('Home', 'Reset original view', 'home', 'home'), ('Back', 'Back to previous …"
      ]
     },
     "metadata": {},
     "output_type": "display_data"
    }
   ],
   "source": [
    "#Fold mask with gaussian to get line width (PSF-based)\n",
    "%matplotlib widget\n",
    "mask = gaussian_filter(mask, sigma=int(3*psf))\n",
    "mask[mask > 0.] = 1\n",
    "#Get masked image\n",
    "masked_image = ma.masked_where(mask >0, full_image)\n",
    "fig, axes = plt.subplots(1, 2, sharex=True, sharey=True)\n",
    "ax = axes.ravel()\n",
    "ax[0].imshow(masked_image, norm=LogNorm())\n",
    "ax[0].set_title(\"masked image\")\n",
    "# plt.show()\n",
    "ax[1].imshow(full_image, norm=LogNorm())\n",
    "# plt.colorbar()\n",
    "ax[1].set_title(\"input image\")\n",
    "plt.show()"
   ]
  },
  {
   "cell_type": "code",
   "execution_count": 61,
   "metadata": {},
   "outputs": [
    {
     "data": {
      "image/png": "[encoded data removed]",
      "text/plain": [
       "<Figure size 432x288 with 1 Axes>"
      ]
     },
     "metadata": {
      "needs_background": "light"
     },
     "output_type": "display_data"
    }
   ],
   "source": [
    "# plt.imshow(mask)\n",
    "%matplotlib inline\n",
    "plt.plot(mask[0, :])\n",
    "plt.show()"
   ]
  },
  {
   "cell_type": "code",
   "execution_count": 13,
   "metadata": {},
   "outputs": [
    {
     "data": {
      "application/vnd.jupyter.widget-view+json": {
       "model_id": "0d402eb87f1f4f73807738c89ba34b7e",
       "version_major": 2,
       "version_minor": 0
      },
      "text/plain": [
       "Canvas(toolbar=Toolbar(toolitems=[('Home', 'Reset original view', 'home', 'home'), ('Back', 'Back to previous …"
      ]
     },
     "metadata": {},
     "output_type": "display_data"
    }
   ],
   "source": [
    "plt.imshow(cutoff_smaps[1][1])\n",
    "plt.colorbar()\n",
    "plt.show()"
   ]
  },
  {
   "cell_type": "code",
   "execution_count": 19,
   "metadata": {},
   "outputs": [],
   "source": [
    "full_smap_file = fits.open(\"/lustre/fs23/group/icecube/azenin/last/images/snr2_smap.fit\")\n",
    "full_smap = full_smap_file[0].data\n",
    "image = full_smap\n",
    "histo = image.flatten()\n",
    "try:\n",
    "    histo=histo[histogram < 0]\n",
    "    quantile = np.quantile(histo, 0.32)\n",
    "except:\n",
    "    quantile = 0\n",
    "cutoff = abs(quantile)\n",
    "image[image < cutoff] = 0\n",
    "plt.imshow(image)\n",
    "plt.colorbar()\n",
    "plt.show()\n"
   ]
  },
  {
   "cell_type": "code",
   "execution_count": 105,
   "metadata": {},
   "outputs": [
    {
     "name": "stdout",
     "output_type": "stream",
     "text": [
      "0.6112155388471178\n",
      "0.016294084304535966\n"
     ]
    }
   ],
   "source": [
    "### efficiency metric\n",
    "# make an expectation array with known streak parameters\n",
    "# streak in images (x = ay + b):\n",
    "a = 0\n",
    "b = 1000\n",
    "im_w = full_image.shape[0]\n",
    "im_h = full_image.shape[1]\n",
    "expectation_mask = np.zeros((im_w, im_h))\n",
    "inv_expectation_mask = np.ones((im_w, im_h))\n",
    "inv_mask = np.ones((im_w, im_h))\n",
    "width = psf * 3\n",
    "\n",
    "def widthfun(x):\n",
    "    if (abs(x) <= width):\n",
    "        return 1.\n",
    "    else:\n",
    "        return 0.\n",
    "\n",
    "def AddMask(image, a = 0.5, b = 0, start = 0, end = -1, width = 2):\n",
    "    if end == -1:\n",
    "        end = im_w;\n",
    "    if np.absolute(a) >= 1:\n",
    "        for i in range(start, end):\n",
    "            for j in range(math.ceil(np.absolute(a))): # to avoid line breaks when a > 1\n",
    "                if(int(a * i + b) + j > 0 and int(a * i + b) + j < im_h):\n",
    "                    image[i][int(a * i + b) + j] = 1.\n",
    "            for k in range(math.ceil(np.absolute(a)), 3*width):\n",
    "                if(int(a * i + b) + k > 0 and int(a * i + b) + k < im_h):\n",
    "                    image[i][int(a * i + b) + k] += widthfun(k * np.cos(np.arctan(a)))\n",
    "\n",
    "            for k in range(-3*int(np.ceil(width/2)), 0):\n",
    "                if(int(a * i + b) + k  > 0 and int(a * i + b) + k < self.im_h):\n",
    "                    image[i][int(a * i + b) + k] += widthfun(k * np.cos(np.arctan(a)))\n",
    "\n",
    "    if np.absolute(a) < 1:\n",
    "        for i in range(start, end):\n",
    "            # for j in range(math.ceil(np.absolute(1/a))): # to avoid line breaks when 1/a > 1\n",
    "            if(int(a * i + b) > 0 and int(a * i + b) < im_h):\n",
    "                image[i][int(a * i + b)] += 1.\n",
    "                    # b_n = int(a * i + b) + j - int(a_n * i)\n",
    "\n",
    "            for k in range(1, 3*int(np.ceil(width/2))):\n",
    "                if(int(a * i + b) + k > 0 and int(a * i + b) + k < im_h):\n",
    "                    image[i][int(a * i + b) + k] += widthfun(k * np.cos(np.arctan(a)))\n",
    "            for k in range(-3*int(np.ceil(width/2)), 0):\n",
    "                if(int(a * i + b) + k  > 0 and int(a * i + b) + k < im_h):\n",
    "                    image[i][int(a * i + b) + k] +=widthfun(k * np.cos(np.arctan(a)))\n",
    "                    \n",
    "AddMask(expectation_mask, a, b, width = width)\n",
    "inv_expectation_mask -= expectation_mask\n",
    "inv_mask -= mask\n",
    "# compare with the result\n",
    "targetpos = np.count_nonzero(expectation_mask > 0.1)\n",
    "targetneg = np.count_nonzero(inv_expectation_mask > 0.1)\n",
    "truepos = np.sum(mask[expectation_mask > 0.1])\n",
    "falsepos = np.sum(mask[expectation_mask < 0.1])\n",
    "efficiency_tp = truepos / targetpos\n",
    "efficiency_fn = falsepos / targetneg \n",
    "print(efficiency_tp)\n",
    "print(efficiency_fn)"
   ]
  },
  {
   "cell_type": "code",
   "execution_count": 17,
   "metadata": {},
   "outputs": [
    {
     "data": {
      "application/vnd.jupyter.widget-view+json": {
       "model_id": "7446d0f91a844493995a3fd9becce21e",
       "version_major": 2,
       "version_minor": 0
      },
      "text/plain": [
       "Canvas(toolbar=Toolbar(toolitems=[('Home', 'Reset original view', 'home', 'home'), ('Back', 'Back to previous …"
      ]
     },
     "metadata": {},
     "output_type": "display_data"
    }
   ],
   "source": [
    "plt.imshow(expectation_mask)\n",
    "plt.colorbar()\n",
    "plt.show()"
   ]
  },
  {
   "cell_type": "code",
   "execution_count": null,
   "metadata": {},
   "outputs": [],
   "source": []
  },
  {
   "cell_type": "code",
   "execution_count": null,
   "metadata": {},
   "outputs": [],
   "source": []
  }
 ],
 "metadata": {
  "kernelspec": {
   "display_name": "Python 3",
   "language": "python",
   "name": "python3"
  },
  "language_info": {
   "codemirror_mode": {
    "name": "ipython",
    "version": 3
   },
   "file_extension": ".py",
   "mimetype": "text/x-python",
   "name": "python",
   "nbconvert_exporter": "python",
   "pygments_lexer": "ipython3",
   "version": "3.7.9"
  }
 },
 "nbformat": 4,
 "nbformat_minor": 5
}
