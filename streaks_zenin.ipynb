{
 "cells": [
  {
   "cell_type": "code",
   "execution_count": 1,
   "metadata": {},
   "outputs": [],
   "source": [
    "import cv2\n",
    "import numpy as np\n",
    "from astropy.io import fits\n",
    "import astropy.io.fits as pyfits\n",
    "import matplotlib.pyplot as plt\n",
    "from matplotlib.colors import LogNorm\n",
    "from matplotlib import cm\n",
    "from astropy.io import fits\n",
    "from skimage.transform import hough_line, hough_line_peaks\n",
    "from skimage.transform import probabilistic_hough_line\n",
    "from skimage.feature import canny\n",
    "from skimage.draw import line\n",
    "from skimage import data\n",
    "from timeit import default_timer as timer\n",
    "from scipy.ndimage.filters import gaussian_filter\n",
    "import numpy.ma as ma\n",
    "import glob\n",
    "import os\n",
    "import pandas as pd\n",
    "from scipy import ndimage\n",
    "from skimage.morphology import square, dilation \n",
    "import math\n",
    "%matplotlib widget"
   ]
  },
  {
   "cell_type": "code",
   "execution_count": 2,
   "metadata": {},
   "outputs": [],
   "source": [
    "#Directory where smaps of splitted images and full image is stored\n",
    "dataset = 'short'\n",
    "image_folder_smaps = '/lustre/fs23/group/icecube/azenin/last/images/last_streaks/last_' + dataset + '_part/'\n",
    "image_folder_image = '/lustre/fs23/group/icecube/azenin/last/images/last_streaks/last_' + dataset + '_new.fit'\n",
    "full_image_file = fits.open(image_folder_image)\n",
    "full_image = full_image_file[0].data\n",
    "#create empty mask for full image\n",
    "mask = np.zeros((full_image.shape[0],full_image.shape[1]))\n",
    "xmax, ymax = mask.shape\n",
    "#properties of subimages and internal stuff\n",
    "x_parts = 10\n",
    "y_parts = 5\n",
    "smap_file = fits.open(image_folder_smaps + 'last_' + dataset + '_x0y0_smap.fit')\n",
    "smap = smap_file[0].data\n",
    "cutoff_smaps = np.zeros((x_parts, y_parts, smap.shape[0], smap.shape[1]))\n",
    "lines_sample = []\n",
    "global_lines = []"
   ]
  },
  {
   "cell_type": "code",
   "execution_count": 3,
   "metadata": {},
   "outputs": [],
   "source": [
    "#IMPORTANT: WE NEED PSF (in pixel size), \n",
    "psf=1.5"
   ]
  },
  {
   "cell_type": "code",
   "execution_count": 4,
   "metadata": {},
   "outputs": [],
   "source": [
    "#Load smaps from splitted input image, calculate cutoff\n",
    "line_array = np.zeros((x_parts, y_parts, 2))\n",
    "for i in range(x_parts):\n",
    "    for j in range(y_parts):\n",
    "        filename = image_folder_smaps + 'last_' + dataset + '_x%d' % i + 'y%d' % j + '_smap.fit' \n",
    "        with fits.open(filename) as hdul:\n",
    "            image=hdul[0].data\n",
    "            image[np.isnan(image)] = 0\n",
    "            histogram = image.flatten()\n",
    "            \"\"\"\n",
    "            plt.hist(histogram, 100)\n",
    "            plt.xlim(0,10)\n",
    "            plt.yscale('log')\n",
    "            \"\"\"\n",
    "            try:\n",
    "                histogram=histogram[histogram < 0]\n",
    "                quantile = np.quantile(histogram, 0.32)\n",
    "            except:\n",
    "                quantile = 0\n",
    "            cutoff = abs(quantile)\n",
    "            image[image < cutoff] = 0\n",
    "            cutoff_smaps[i][j] = image\n",
    "            \"\"\"\n",
    "            plt.imshow(image, cmap='gray')\n",
    "            plt.colorbar()\n",
    "            plt.show()\n",
    "            \"\"\""
   ]
  },
  {
   "cell_type": "code",
   "execution_count": 5,
   "metadata": {
    "scrolled": false
   },
   "outputs": [
    {
     "name": "stdout",
     "output_type": "stream",
     "text": [
      "208\n"
     ]
    }
   ],
   "source": [
    "global_lines = []\n",
    "#Do Hough\n",
    "  \n",
    "    \n",
    "for i in range(cutoff_smaps.shape[0]):\n",
    "    for j in range(cutoff_smaps.shape[1]):\n",
    "        start2 = timer()\n",
    "        #edges = canny(cutoff_smaps[i][j], 5*psf, 0.8)\n",
    "        lines = list(probabilistic_hough_line(cutoff_smaps[i][j], threshold=400, line_length=int(50*psf), line_gap=0))\n",
    "        for k in range(len(lines)):\n",
    "            #check alignment\n",
    "            flag = 0\n",
    "            a_curr, b_curr, x_curr = getab(lines[k])\n",
    "            a_curr_tp, b_curr_tp, x_curr_tp = getab(lines[k], transpose = 1)\n",
    "            #check length\n",
    "            dist = getdist(lines[k])\n",
    "            if dist < 30*psf:\n",
    "#                 print('line is too short')\n",
    "                continue\n",
    "            lines[k] = list(lines[k])\n",
    "            lines[k][0] = list(lines[k][0])\n",
    "            lines[k][1] = list(lines[k][1])\n",
    "            lines[k][0][0] += j*smap.shape[1]\n",
    "            lines[k][1][0] += j*smap.shape[1]\n",
    "            lines[k][0][1] += i*smap.shape[0]\n",
    "            lines[k][1][1] += i*smap.shape[0]\n",
    "#             print(\"modified: %d, %d; i = %d, j = %d\" % (lines[k][0][0], lines[k][0][1], i, j))\n",
    "#             if(lines[k][0][0] < (i+1) * smap.shape[0] and lines[k][0][1] < (j+1) * smap.shape[1] and lines[k][1][0] < (i+1) * smap.shape[0] and lines[k][1][1] < (j+1) * smap.shape[1]):\n",
    "            global_lines.append(lines[k])\n",
    "print(len(global_lines))\n",
    "#output is list of arrays, where start and end-points of found lines are listed\n",
    "#not a list of tuples or lists?"
   ]
  },
  {
   "cell_type": "code",
   "execution_count": 6,
   "metadata": {
    "scrolled": true
   },
   "outputs": [
    {
     "data": {
      "text/html": [
       "<div>\n",
       "<style scoped>\n",
       "    .dataframe tbody tr th:only-of-type {\n",
       "        vertical-align: middle;\n",
       "    }\n",
       "\n",
       "    .dataframe tbody tr th {\n",
       "        vertical-align: top;\n",
       "    }\n",
       "\n",
       "    .dataframe thead th {\n",
       "        text-align: right;\n",
       "    }\n",
       "</style>\n",
       "<table border=\"1\" class=\"dataframe\">\n",
       "  <thead>\n",
       "    <tr style=\"text-align: right;\">\n",
       "      <th></th>\n",
       "      <th>x0</th>\n",
       "      <th>y0</th>\n",
       "      <th>x1</th>\n",
       "      <th>y1</th>\n",
       "      <th>length</th>\n",
       "      <th>group</th>\n",
       "    </tr>\n",
       "  </thead>\n",
       "  <tbody>\n",
       "    <tr>\n",
       "      <th>0</th>\n",
       "      <td>1963</td>\n",
       "      <td>1913</td>\n",
       "      <td>1475</td>\n",
       "      <td>957</td>\n",
       "      <td>1073.349896</td>\n",
       "      <td>-1</td>\n",
       "    </tr>\n",
       "    <tr>\n",
       "      <th>1</th>\n",
       "      <td>1958</td>\n",
       "      <td>1913</td>\n",
       "      <td>1471</td>\n",
       "      <td>957</td>\n",
       "      <td>1072.895615</td>\n",
       "      <td>-1</td>\n",
       "    </tr>\n",
       "    <tr>\n",
       "      <th>2</th>\n",
       "      <td>1961</td>\n",
       "      <td>1913</td>\n",
       "      <td>1474</td>\n",
       "      <td>957</td>\n",
       "      <td>1072.895615</td>\n",
       "      <td>-1</td>\n",
       "    </tr>\n",
       "    <tr>\n",
       "      <th>3</th>\n",
       "      <td>1959</td>\n",
       "      <td>1913</td>\n",
       "      <td>1472</td>\n",
       "      <td>957</td>\n",
       "      <td>1072.895615</td>\n",
       "      <td>-1</td>\n",
       "    </tr>\n",
       "    <tr>\n",
       "      <th>4</th>\n",
       "      <td>1955</td>\n",
       "      <td>1896</td>\n",
       "      <td>1477</td>\n",
       "      <td>957</td>\n",
       "      <td>1053.662659</td>\n",
       "      <td>-1</td>\n",
       "    </tr>\n",
       "    <tr>\n",
       "      <th>...</th>\n",
       "      <td>...</td>\n",
       "      <td>...</td>\n",
       "      <td>...</td>\n",
       "      <td>...</td>\n",
       "      <td>...</td>\n",
       "      <td>...</td>\n",
       "    </tr>\n",
       "    <tr>\n",
       "      <th>203</th>\n",
       "      <td>1605</td>\n",
       "      <td>1262</td>\n",
       "      <td>1527</td>\n",
       "      <td>1257</td>\n",
       "      <td>78.160092</td>\n",
       "      <td>-1</td>\n",
       "    </tr>\n",
       "    <tr>\n",
       "      <th>204</th>\n",
       "      <td>1424</td>\n",
       "      <td>6947</td>\n",
       "      <td>1348</td>\n",
       "      <td>6931</td>\n",
       "      <td>77.665951</td>\n",
       "      <td>-1</td>\n",
       "    </tr>\n",
       "    <tr>\n",
       "      <th>205</th>\n",
       "      <td>2834</td>\n",
       "      <td>306</td>\n",
       "      <td>2759</td>\n",
       "      <td>286</td>\n",
       "      <td>77.620873</td>\n",
       "      <td>-1</td>\n",
       "    </tr>\n",
       "    <tr>\n",
       "      <th>206</th>\n",
       "      <td>3208</td>\n",
       "      <td>2905</td>\n",
       "      <td>3285</td>\n",
       "      <td>2901</td>\n",
       "      <td>77.103826</td>\n",
       "      <td>-1</td>\n",
       "    </tr>\n",
       "    <tr>\n",
       "      <th>207</th>\n",
       "      <td>2516</td>\n",
       "      <td>1676</td>\n",
       "      <td>2440</td>\n",
       "      <td>1665</td>\n",
       "      <td>76.791927</td>\n",
       "      <td>-1</td>\n",
       "    </tr>\n",
       "  </tbody>\n",
       "</table>\n",
       "<p>208 rows × 6 columns</p>\n",
       "</div>"
      ],
      "text/plain": [
       "       x0    y0    x1    y1       length  group\n",
       "0    1963  1913  1475   957  1073.349896     -1\n",
       "1    1958  1913  1471   957  1072.895615     -1\n",
       "2    1961  1913  1474   957  1072.895615     -1\n",
       "3    1959  1913  1472   957  1072.895615     -1\n",
       "4    1955  1896  1477   957  1053.662659     -1\n",
       "..    ...   ...   ...   ...          ...    ...\n",
       "203  1605  1262  1527  1257    78.160092     -1\n",
       "204  1424  6947  1348  6931    77.665951     -1\n",
       "205  2834   306  2759   286    77.620873     -1\n",
       "206  3208  2905  3285  2901    77.103826     -1\n",
       "207  2516  1676  2440  1665    76.791927     -1\n",
       "\n",
       "[208 rows x 6 columns]"
      ]
     },
     "execution_count": 6,
     "metadata": {},
     "output_type": "execute_result"
    }
   ],
   "source": [
    "###### sort streaks by length\n",
    "# create a pandas dataframe\n",
    "streaks = np.zeros((len(global_lines), 5))\n",
    "for i in range(streaks.shape[0]):\n",
    "    streaks[i][0] = global_lines[i][0][0]\n",
    "    streaks[i][1] = global_lines[i][0][1]\n",
    "    streaks[i][2] = global_lines[i][1][0]\n",
    "    streaks[i][3] = global_lines[i][1][1]\n",
    "    streaks[i][4] = getdist(global_lines[i])\n",
    "df = pd.DataFrame(streaks, columns = [\"x0\", \"y0\", \"x1\", \"y1\", \"length\"])\n",
    "df = df.assign(group = -1)\n",
    "df[\"x0\"] = df[\"x0\"].astype(np.int32)\n",
    "df[\"y0\"] = df[\"y0\"].astype(np.int32)\n",
    "df[\"x1\"] = df[\"x1\"].astype(np.int32)\n",
    "df[\"y1\"] = df[\"y1\"].astype(np.int32)\n",
    "df = df.sort_values(\"length\", ascending = [False]).reset_index(drop=True)\n",
    "df\n",
    "# df.dtypes"
   ]
  },
  {
   "cell_type": "code",
   "execution_count": 7,
   "metadata": {},
   "outputs": [
    {
     "data": {
      "application/vnd.jupyter.widget-view+json": {
       "model_id": "f4bee75afb0d40e0846590424fcd57ce",
       "version_major": 2,
       "version_minor": 0
      },
      "text/plain": [
       "Canvas(toolbar=Toolbar(toolitems=[('Home', 'Reset original view', 'home', 'home'), ('Back', 'Back to previous …"
      ]
     },
     "metadata": {},
     "output_type": "display_data"
    }
   ],
   "source": [
    "%matplotlib widget\n",
    "fig, axes = plt.subplots(1, 2, sharex=True, sharey=True)\n",
    "ax = axes.ravel()\n",
    "\n",
    "ax[0].imshow(full_image, cmap=cm.gray, norm=LogNorm())\n",
    "ax[0].set_title('Input image')\n",
    "\n",
    "ax[1].imshow(full_image * 0)\n",
    "for i in range(df.shape[0]):\n",
    "    p0, p1 = [df[\"x0\"][i], df[\"y0\"][i]], [df[\"x1\"][i], df[\"y1\"][i]]\n",
    "    ax[1].plot((float(p0[0]), float(p1[0])), (float(p0[1]), float(p1[1])))\n",
    "    #ax[1].set_xlim((0,full_image.shape[1]))\n",
    "#ax[1].set_ylim((full_image.shape[0], 0))\n",
    "ax[1].set_title('Probabilistic Hough')\n",
    "\n",
    "for a in ax:\n",
    "    a.set_axis_off()\n",
    "\n",
    "plt.tight_layout()\n",
    "plt.show()\n",
    "#Here we need the code to get the global coordinates for the found lines in lines_sample\n",
    "# line_array = np.zeros((x_parts, y_parts, 2))\n",
    "# for i in range(x_parts):\n",
    "#     for j in range(y_parts):\n",
    "#         line_array[i][j][0] = lines[i*y_parts+j][0]\n",
    "#         line_array[i][j][1] = lines[i*y_parts+j][1]\n",
    "#Output should be an list of all global line coordinates (global_lines)"
   ]
  },
  {
   "cell_type": "code",
   "execution_count": 8,
   "metadata": {},
   "outputs": [
    {
     "name": "stdout",
     "output_type": "stream",
     "text": [
      "a = 1.959016, b = -1932.549180, xx = -1.000000\n",
      "line is not vertical\n",
      "a >= 1\n"
     ]
    },
    {
     "data": {
      "application/vnd.jupyter.widget-view+json": {
       "model_id": "0a0a40b0d8364d498e6e63b7d2d6bacd",
       "version_major": 2,
       "version_minor": 0
      },
      "text/plain": [
       "Canvas(toolbar=Toolbar(toolitems=[('Home', 'Reset original view', 'home', 'home'), ('Back', 'Back to previous …"
      ]
     },
     "metadata": {},
     "output_type": "display_data"
    },
    {
     "data": {
      "text/plain": [
       "299008"
      ]
     },
     "execution_count": 8,
     "metadata": {},
     "output_type": "execute_result"
    }
   ],
   "source": [
    "# masks and correlations\n",
    "\n",
    "def drawLine(image, x0, y0, x1, y1):\n",
    "    xl, yl = line(x0, y0, x1, y1)\n",
    "    image[xl, yl] = 1\n",
    "\n",
    "# obtains parameters of line equation from two points\n",
    "def getab(streak, transpose = 0): \n",
    "    x0 = streak[0][1]\n",
    "    y0 = streak[0][0]\n",
    "    x1 = streak[1][1]\n",
    "    y1 = streak[1][0]\n",
    "    if(transpose):\n",
    "        x0 = streak[0][0]\n",
    "        y0 = streak[0][1]\n",
    "        x1 = streak[1][0]\n",
    "        y1 = streak[1][1]\n",
    "    if x0 == x1: # if the line is vertical\n",
    "        a = np.nan\n",
    "        b = np.nan\n",
    "        return a, b, x0\n",
    "    else:\n",
    "        a = (y1 - y0)/(x1 - x0)\n",
    "        b = y0 - x0 * a\n",
    "    return a, b, -1\n",
    "    \n",
    "# extends a line to the edges of the image (still needs testing for larger angles)\n",
    "def extendMask(image, x0, y0, x1, y1): \n",
    "    a, b, xx = getab([[x0, y0], [x1, y1]], transpose = 1)\n",
    "    print(\"a = %f, b = % f, xx = %f\" % (a,b,xx))\n",
    "    if xx == -1.:\n",
    "        print('line is not vertical')\n",
    "        if np.absolute(a) >= 1.:\n",
    "            print('a >= 1')\n",
    "            for i in range(0, im_w):\n",
    "                for j in range(math.ceil(np.absolute(a))): # to avoid line breaks when a > 1\n",
    "                    if(int(a * i + b) + j > 0 and int(a * i + b) + j < im_w):\n",
    "                        image[int(a * i + b) + j][i] = 1.\n",
    "        if np.absolute(a) < 1.:\n",
    "            print('a < 1')\n",
    "            for i in range(0, im_w):\n",
    "                for j in range(math.ceil(np.absolute(1/a))): # to avoid line breaks when 1/a > 1\n",
    "                    if(int(a * i + b) > 0 and int(a * i + b) < im_w):\n",
    "                        image[i][int(a * i + b)] = 1.\n",
    "    else:\n",
    "        for i in range(im_w):\n",
    "            image[i][xx] = 1\n",
    "\n",
    "im_w = full_image.shape[0]\n",
    "im_h = full_image.shape[1]\n",
    "mask = np.zeros((im_w, im_h), dtype = np.bool_)\n",
    "drawLine(mask, df[\"y0\"][0], df[\"x0\"][0], df[\"y1\"][0], df[\"x1\"][0])\n",
    "\n",
    "\n",
    "%matplotlib widget\n",
    "base_mask = np.zeros((im_w, im_h)).astype(np.bool_)\n",
    "extendMask(base_mask, df[\"x0\"][0], df[\"y0\"][0], df[\"x1\"][0], df[\"y1\"][0])\n",
    "# make the line wider\n",
    "struct2 = ndimage.generate_binary_structure(2, 2)\n",
    "base_mask = ndimage.binary_dilation(base_mask, structure=struct2, iterations = 10).astype(base_mask.dtype)\n",
    "plt.imshow(base_mask)"
   ]
  },
  {
   "cell_type": "code",
   "execution_count": 12,
   "metadata": {},
   "outputs": [
    {
     "name": "stdout",
     "output_type": "stream",
     "text": [
      "136\n"
     ]
    }
   ],
   "source": [
    "correlations = np.zeros(df.shape[0])\n",
    "df.at[0, \"group\"] = 0\n",
    "for i in range(0, len(correlations)):\n",
    "    mask = np.zeros((im_w, im_h), dtype = np.bool_)\n",
    "    drawLine(mask, df[\"y0\"][i], df[\"x0\"][i], df[\"y1\"][i], df[\"x1\"][i])\n",
    "    correlations[i] = np.count_nonzero(base_mask * mask)\n",
    "    if correlations[i] > 0:\n",
    "        df.at[i, \"group\"]= 0\n",
    "#     print(i, correlations[i] / df[\"length\"][i])\n",
    "print(np.count_nonzero(correlations))"
   ]
  },
  {
   "cell_type": "code",
   "execution_count": 13,
   "metadata": {
    "scrolled": true
   },
   "outputs": [
    {
     "name": "stdout",
     "output_type": "stream",
     "text": [
      "2729\n",
      "1067\n"
     ]
    }
   ],
   "source": [
    "sdf = df[df['group'] == 0]\n",
    "min_y = np.min([sdf['y0'].min(), sdf['y1'].min()])\n",
    "max_y = np.max([sdf['y0'].max(), sdf['y1'].max()])\n",
    "min_x = np.min([sdf['x0'].min(), sdf['x1'].min()])\n",
    "max_x = np.max([sdf['x0'].max(), sdf['x1'].max()])\n",
    "\n",
    "print(max_x)\n",
    "print(min_x)\n",
    "# min_x | min_y\n",
    "# max_x | min_y\n",
    "# min_x | max_y\n",
    "# max_x | max_y"
   ]
  },
  {
   "cell_type": "code",
   "execution_count": 14,
   "metadata": {},
   "outputs": [
    {
     "data": {
      "application/vnd.jupyter.widget-view+json": {
       "model_id": "f345a691d766465ca6f2d4c2bbe01112",
       "version_major": 2,
       "version_minor": 0
      },
      "text/plain": [
       "Canvas(toolbar=Toolbar(toolitems=[('Home', 'Reset original view', 'home', 'home'), ('Back', 'Back to previous …"
      ]
     },
     "metadata": {},
     "output_type": "display_data"
    }
   ],
   "source": [
    "%matplotlib widget\n",
    "newmask = np.zeros((full_image.shape[0],full_image.shape[1]), dtype = np.bool_)\n",
    "drawLine(newmask, min_y, min_x, max_y, max_x)\n",
    "struct2 = ndimage.generate_binary_structure(2, 2)\n",
    "newmask = ndimage.binary_dilation(newmask, structure=struct2, iterations = 5).astype(newmask.dtype)\n",
    "plt.imshow(newmask)\n",
    "plt.show()"
   ]
  },
  {
   "cell_type": "code",
   "execution_count": 29,
   "metadata": {},
   "outputs": [
    {
     "data": {
      "text/plain": [
       "711.101258612302"
      ]
     },
     "execution_count": 29,
     "metadata": {},
     "output_type": "execute_result"
    }
   ],
   "source": [
    "df['length'][0]"
   ]
  },
  {
   "cell_type": "code",
   "execution_count": null,
   "metadata": {},
   "outputs": [],
   "source": [
    "%matplotlib widget\n",
    "plt.imshow(cutoff_smaps[1][1])\n",
    "plt.colorbar()\n",
    "plt.show()"
   ]
  },
  {
   "cell_type": "code",
   "execution_count": null,
   "metadata": {},
   "outputs": [],
   "source": [
    "full_smap_file = fits.open(\"/lustre/fs23/group/icecube/azenin/last/images/snr2_smap.fit\")\n",
    "full_smap = full_smap_file[0].data\n",
    "image = full_smap\n",
    "histo = image.flatten()\n",
    "try:\n",
    "    histo=histo[histogram < 0]\n",
    "    quantile = np.quantile(histo, 0.32)\n",
    "except:\n",
    "    quantile = 0\n",
    "cutoff = abs(quantile)\n",
    "image[image < cutoff] = 0\n",
    "plt.imshow(image)\n",
    "plt.colorbar()\n",
    "plt.show()\n"
   ]
  },
  {
   "cell_type": "code",
   "execution_count": 58,
   "metadata": {},
   "outputs": [
    {
     "name": "stdout",
     "output_type": "stream",
     "text": [
      "0.5026919149726168\n",
      "6.797266346849525e-06\n"
     ]
    }
   ],
   "source": [
    "### efficiency metric\n",
    "# make an expectation array with known streak parameters\n",
    "# streak in images (x = ay + b):\n",
    "a = 0\n",
    "b = 1000\n",
    "im_w = full_image.shape[0]\n",
    "im_h = full_image.shape[1]\n",
    "expectation_mask = np.zeros((im_w, im_h))\n",
    "inv_expectation_mask = np.ones((im_w, im_h))\n",
    "inv_mask = np.ones((im_w, im_h))\n",
    "width = psf * 3\n",
    "\n",
    "def widthfun(x):\n",
    "    if (abs(x) <= width):\n",
    "        return 1.\n",
    "    else:\n",
    "        return 0.\n",
    "\n",
    "def AddMask(image, a = 0.5, b = 0, start = 0, end = -1, width = 2):\n",
    "    if end == -1:\n",
    "        end = im_w;\n",
    "    if np.absolute(a) >= 1:\n",
    "        for i in range(start, end):\n",
    "            for j in range(math.ceil(np.absolute(a))): # to avoid line breaks when a > 1\n",
    "                if(int(a * i + b) + j > 0 and int(a * i + b) + j < im_h):\n",
    "                    image[i][int(a * i + b) + j] = 1.\n",
    "            for k in range(math.ceil(np.absolute(a)), 3*width):\n",
    "                if(int(a * i + b) + k > 0 and int(a * i + b) + k < im_h):\n",
    "                    image[i][int(a * i + b) + k] += widthfun(k * np.cos(np.arctan(a)))\n",
    "\n",
    "            for k in range(-3*int(np.ceil(width/2)), 0):\n",
    "                if(int(a * i + b) + k  > 0 and int(a * i + b) + k < self.im_h):\n",
    "                    image[i][int(a * i + b) + k] += widthfun(k * np.cos(np.arctan(a)))\n",
    "\n",
    "    if np.absolute(a) < 1:\n",
    "        for i in range(start, end):\n",
    "            # for j in range(math.ceil(np.absolute(1/a))): # to avoid line breaks when 1/a > 1\n",
    "            if(int(a * i + b) > 0 and int(a * i + b) < im_h):\n",
    "                image[i][int(a * i + b)] += 1.\n",
    "                    # b_n = int(a * i + b) + j - int(a_n * i)\n",
    "\n",
    "            for k in range(1, 3*int(np.ceil(width/2))):\n",
    "                if(int(a * i + b) + k > 0 and int(a * i + b) + k < im_h):\n",
    "                    image[i][int(a * i + b) + k] += widthfun(k * np.cos(np.arctan(a)))\n",
    "            for k in range(-3*int(np.ceil(width/2)), 0):\n",
    "                if(int(a * i + b) + k  > 0 and int(a * i + b) + k < im_h):\n",
    "                    image[i][int(a * i + b) + k] += widthfun(k * np.cos(np.arctan(a)))\n",
    "                    \n",
    "AddMask(expectation_mask, a, b, width = width)\n",
    "expectation_mask = expectation_mask.astype(np.bool_)\n",
    "inv_expectation_mask -= expectation_mask\n",
    "inv_mask -= mask[0]\n",
    "# compare with the result\n",
    "targetpos = np.count_nonzero(expectation_mask > 0.1)\n",
    "targetneg = np.count_nonzero(inv_expectation_mask > 0.1)\n",
    "truepos = np.sum(mask[0][expectation_mask > 0.1])\n",
    "falsepos = np.sum(mask[0][expectation_mask < 0.1])\n",
    "efficiency_tp = truepos / targetpos\n",
    "efficiency_fp = falsepos / targetneg \n",
    "print(efficiency_tp)\n",
    "print(efficiency_fp)"
   ]
  },
  {
   "cell_type": "code",
   "execution_count": null,
   "metadata": {},
   "outputs": [],
   "source": [
    "%matplotlib widget\n",
    "plt.imshow(expectation_mask)\n",
    "plt.colorbar()\n",
    "plt.show()"
   ]
  },
  {
   "cell_type": "code",
   "execution_count": 25,
   "metadata": {},
   "outputs": [
    {
     "data": {
      "application/vnd.jupyter.widget-view+json": {
       "model_id": "9a1d76bb03484e0989bbba6d9cdeaf7e",
       "version_major": 2,
       "version_minor": 0
      },
      "text/plain": [
       "Canvas(toolbar=Toolbar(toolitems=[('Home', 'Reset original view', 'home', 'home'), ('Back', 'Back to previous …"
      ]
     },
     "metadata": {},
     "output_type": "display_data"
    }
   ],
   "source": [
    "# plt.imshow(mask)\n",
    "%matplotlib widget\n",
    "# plt.imshow(mask[0].astype(float))\n",
    "plt.plot(mask[0][1000, :])\n",
    "plt.show()"
   ]
  },
  {
   "cell_type": "code",
   "execution_count": null,
   "metadata": {},
   "outputs": [],
   "source": [
    "df[\"x0\"][2]"
   ]
  },
  {
   "cell_type": "code",
   "execution_count": 51,
   "metadata": {},
   "outputs": [
    {
     "name": "stdout",
     "output_type": "stream",
     "text": [
      "6354\n"
     ]
    }
   ],
   "source": [
    "print(im_h)"
   ]
  },
  {
   "cell_type": "code",
   "execution_count": null,
   "metadata": {},
   "outputs": [],
   "source": []
  }
 ],
 "metadata": {
  "kernelspec": {
   "display_name": "Python 3",
   "language": "python",
   "name": "python3"
  },
  "language_info": {
   "codemirror_mode": {
    "name": "ipython",
    "version": 3
   },
   "file_extension": ".py",
   "mimetype": "text/x-python",
   "name": "python",
   "nbconvert_exporter": "python",
   "pygments_lexer": "ipython3",
   "version": "3.7.9"
  }
 },
 "nbformat": 4,
 "nbformat_minor": 5
}
