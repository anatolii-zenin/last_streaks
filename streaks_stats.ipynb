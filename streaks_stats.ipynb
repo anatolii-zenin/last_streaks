{
 "cells": [
  {
   "cell_type": "code",
   "execution_count": 1,
   "id": "bab77979",
   "metadata": {},
   "outputs": [],
   "source": [
    "import numpy as np\n",
    "import pandas as pd\n",
    "from glob import glob\n",
    "import matplotlib.pyplot as plt"
   ]
  },
  {
   "cell_type": "code",
   "execution_count": 2,
   "id": "f0401273",
   "metadata": {},
   "outputs": [],
   "source": [
    "# f_in = glob('./output/*/input_params.txt')\n",
    "f_out = glob('./output/*/*/*/*/*_out.txt')\n",
    "arr = np.zeros(())\n",
    "for i in range(len(f_out)):\n",
    "    split = f_out[i].split('/')\n",
    "    split1 = split[-1].split('_')\n",
    "    in_fname = split[0] + '/' + split[1] + '/' + split[2] + '/' + \\\n",
    "                split[3] + '/' + split[4] + '/' + split[5] + '/'+ split1[0] + '_in.txt'\n",
    "    arr_in = np.loadtxt(in_fname, skiprows=1)\n",
    "    arr_out = np.loadtxt(f_out[i], skiprows=1)\n",
    "#     arr_in[0] = int(split[2])\n",
    "#     arr_in[2] = int(split[4])\n",
    "    if i == 0:\n",
    "        arr = np.concatenate((arr_in, arr_out))\n",
    "    else:\n",
    "        arr = np.vstack((arr, np.concatenate((arr_in, arr_out))))"
   ]
  },
  {
   "cell_type": "code",
   "execution_count": 3,
   "id": "e40a7ccd",
   "metadata": {},
   "outputs": [
    {
     "data": {
      "text/plain": [
       "star_n          int64\n",
       "streak_n        int64\n",
       "star_snr      float64\n",
       "streak_snr    float64\n",
       "seed            int64\n",
       "true_pos      float64\n",
       "false_pos     float64\n",
       "dtype: object"
      ]
     },
     "execution_count": 3,
     "metadata": {},
     "output_type": "execute_result"
    }
   ],
   "source": [
    "df = pd.DataFrame(arr, columns = ('star_n', 'streak_n', 'star_snr', 'streak_snr', 'seed', 'true_pos', 'false_pos'))\n",
    "df[\"star_n\"] = df[\"star_n\"].astype(int)\n",
    "df[\"streak_n\"] = df[\"streak_n\"].astype(int)\n",
    "df[\"seed\"] = df[\"seed\"].astype(int)\n",
    "df.dtypes"
   ]
  },
  {
   "cell_type": "code",
   "execution_count": 4,
   "id": "206c8d7c",
   "metadata": {},
   "outputs": [
    {
     "data": {
      "text/html": [
       "<div>\n",
       "<style scoped>\n",
       "    .dataframe tbody tr th:only-of-type {\n",
       "        vertical-align: middle;\n",
       "    }\n",
       "\n",
       "    .dataframe tbody tr th {\n",
       "        vertical-align: top;\n",
       "    }\n",
       "\n",
       "    .dataframe thead th {\n",
       "        text-align: right;\n",
       "    }\n",
       "</style>\n",
       "<table border=\"1\" class=\"dataframe\">\n",
       "  <thead>\n",
       "    <tr style=\"text-align: right;\">\n",
       "      <th></th>\n",
       "      <th>star_n</th>\n",
       "      <th>streak_n</th>\n",
       "      <th>star_snr</th>\n",
       "      <th>streak_snr</th>\n",
       "      <th>seed</th>\n",
       "      <th>true_pos</th>\n",
       "      <th>false_pos</th>\n",
       "    </tr>\n",
       "  </thead>\n",
       "  <tbody>\n",
       "    <tr>\n",
       "      <th>0</th>\n",
       "      <td>10000</td>\n",
       "      <td>5</td>\n",
       "      <td>100.0</td>\n",
       "      <td>0.5</td>\n",
       "      <td>0</td>\n",
       "      <td>0.0816</td>\n",
       "      <td>0.0014</td>\n",
       "    </tr>\n",
       "    <tr>\n",
       "      <th>1</th>\n",
       "      <td>10000</td>\n",
       "      <td>5</td>\n",
       "      <td>100.0</td>\n",
       "      <td>100.0</td>\n",
       "      <td>0</td>\n",
       "      <td>1.0000</td>\n",
       "      <td>0.0145</td>\n",
       "    </tr>\n",
       "    <tr>\n",
       "      <th>2</th>\n",
       "      <td>10000</td>\n",
       "      <td>5</td>\n",
       "      <td>100.0</td>\n",
       "      <td>10000.0</td>\n",
       "      <td>0</td>\n",
       "      <td>1.0000</td>\n",
       "      <td>0.0149</td>\n",
       "    </tr>\n",
       "    <tr>\n",
       "      <th>3</th>\n",
       "      <td>10000</td>\n",
       "      <td>5</td>\n",
       "      <td>100.0</td>\n",
       "      <td>1000.0</td>\n",
       "      <td>0</td>\n",
       "      <td>1.0000</td>\n",
       "      <td>0.0149</td>\n",
       "    </tr>\n",
       "    <tr>\n",
       "      <th>4</th>\n",
       "      <td>10000</td>\n",
       "      <td>5</td>\n",
       "      <td>100.0</td>\n",
       "      <td>10.0</td>\n",
       "      <td>0</td>\n",
       "      <td>1.0000</td>\n",
       "      <td>0.0143</td>\n",
       "    </tr>\n",
       "    <tr>\n",
       "      <th>...</th>\n",
       "      <td>...</td>\n",
       "      <td>...</td>\n",
       "      <td>...</td>\n",
       "      <td>...</td>\n",
       "      <td>...</td>\n",
       "      <td>...</td>\n",
       "      <td>...</td>\n",
       "    </tr>\n",
       "    <tr>\n",
       "      <th>103</th>\n",
       "      <td>100000</td>\n",
       "      <td>1</td>\n",
       "      <td>1000.0</td>\n",
       "      <td>100.0</td>\n",
       "      <td>0</td>\n",
       "      <td>1.0000</td>\n",
       "      <td>0.0058</td>\n",
       "    </tr>\n",
       "    <tr>\n",
       "      <th>104</th>\n",
       "      <td>100000</td>\n",
       "      <td>1</td>\n",
       "      <td>1000.0</td>\n",
       "      <td>10000.0</td>\n",
       "      <td>0</td>\n",
       "      <td>1.0000</td>\n",
       "      <td>0.0067</td>\n",
       "    </tr>\n",
       "    <tr>\n",
       "      <th>105</th>\n",
       "      <td>100000</td>\n",
       "      <td>1</td>\n",
       "      <td>1000.0</td>\n",
       "      <td>1000.0</td>\n",
       "      <td>0</td>\n",
       "      <td>1.0000</td>\n",
       "      <td>0.0077</td>\n",
       "    </tr>\n",
       "    <tr>\n",
       "      <th>106</th>\n",
       "      <td>100000</td>\n",
       "      <td>1</td>\n",
       "      <td>1000.0</td>\n",
       "      <td>10.0</td>\n",
       "      <td>0</td>\n",
       "      <td>1.0000</td>\n",
       "      <td>0.0058</td>\n",
       "    </tr>\n",
       "    <tr>\n",
       "      <th>107</th>\n",
       "      <td>100000</td>\n",
       "      <td>1</td>\n",
       "      <td>1000.0</td>\n",
       "      <td>1.0</td>\n",
       "      <td>0</td>\n",
       "      <td>1.0000</td>\n",
       "      <td>0.0058</td>\n",
       "    </tr>\n",
       "  </tbody>\n",
       "</table>\n",
       "<p>108 rows × 7 columns</p>\n",
       "</div>"
      ],
      "text/plain": [
       "     star_n  streak_n  star_snr  streak_snr  seed  true_pos  false_pos\n",
       "0     10000         5     100.0         0.5     0    0.0816     0.0014\n",
       "1     10000         5     100.0       100.0     0    1.0000     0.0145\n",
       "2     10000         5     100.0     10000.0     0    1.0000     0.0149\n",
       "3     10000         5     100.0      1000.0     0    1.0000     0.0149\n",
       "4     10000         5     100.0        10.0     0    1.0000     0.0143\n",
       "..      ...       ...       ...         ...   ...       ...        ...\n",
       "103  100000         1    1000.0       100.0     0    1.0000     0.0058\n",
       "104  100000         1    1000.0     10000.0     0    1.0000     0.0067\n",
       "105  100000         1    1000.0      1000.0     0    1.0000     0.0077\n",
       "106  100000         1    1000.0        10.0     0    1.0000     0.0058\n",
       "107  100000         1    1000.0         1.0     0    1.0000     0.0058\n",
       "\n",
       "[108 rows x 7 columns]"
      ]
     },
     "execution_count": 4,
     "metadata": {},
     "output_type": "execute_result"
    }
   ],
   "source": [
    "df"
   ]
  },
  {
   "cell_type": "code",
   "execution_count": 5,
   "id": "7532c4ae",
   "metadata": {},
   "outputs": [
    {
     "data": {
      "image/png": "[encoded data removed]",
      "text/plain": [
       "<Figure size 720x720 with 1 Axes>"
      ]
     },
     "metadata": {
      "needs_background": "light"
     },
     "output_type": "display_data"
    }
   ],
   "source": [
    "plt.figure(figsize = (10,10))\n",
    "plt.scatter(df[df['streak_snr'] >= 1.]['false_pos'],df[df['streak_snr'] > 0.5]['true_pos'])\n",
    "# plt.scatter(df['false_pos'],df['true_pos'])\n",
    "plt.xlabel('false positives', fontsize=15)\n",
    "plt.ylabel('true positives', fontsize=15)\n",
    "# plt.colorbar()\n",
    "plt.show()\n",
    "\n",
    "#test shorter streaks\n",
    "#test for LAST images (number of stars, std, mean)\n"
   ]
  },
  {
   "cell_type": "code",
   "execution_count": 6,
   "id": "dd2f50a0",
   "metadata": {
    "scrolled": false
   },
   "outputs": [
    {
     "name": "stderr",
     "output_type": "stream",
     "text": [
      "/home/azenin/Software/miniconda3/envs/last/lib/python3.7/site-packages/ipykernel_launcher.py:2: SettingWithCopyWarning: \n",
      "A value is trying to be set on a copy of a slice from a DataFrame\n",
      "\n",
      "See the caveats in the documentation: https://pandas.pydata.org/pandas-docs/stable/user_guide/indexing.html#returning-a-view-versus-a-copy\n",
      "  \n"
     ]
    },
    {
     "data": {
      "text/plain": [
       "<matplotlib.collections.PathCollection at 0x7fc46100a7d0>"
      ]
     },
     "execution_count": 6,
     "metadata": {},
     "output_type": "execute_result"
    },
    {
     "data": {
      "image/png": "[encoded data removed]",
      "text/plain": [
       "<Figure size 432x288 with 1 Axes>"
      ]
     },
     "metadata": {
      "needs_background": "light"
     },
     "output_type": "display_data"
    }
   ],
   "source": [
    "sdf = df[df[\"streak_snr\"] <= 1]\n",
    "sdf.sort_values(by=['true_pos'], inplace=True, ascending=False)\n",
    "# sdf = sdf[sdf[\"star_snr\"] < 100]\n",
    "# sdf = sdf[sdf[\"streak_n\"] == 1]\n",
    "sdf\n",
    "plt.scatter(sdf['streak_snr'], sdf['true_pos'])"
   ]
  }
 ],
 "metadata": {
  "kernelspec": {
   "display_name": "Python 3",
   "language": "python",
   "name": "python3"
  },
  "language_info": {
   "codemirror_mode": {
    "name": "ipython",
    "version": 3
   },
   "file_extension": ".py",
   "mimetype": "text/x-python",
   "name": "python",
   "nbconvert_exporter": "python",
   "pygments_lexer": "ipython3",
   "version": "3.7.9"
  }
 },
 "nbformat": 4,
 "nbformat_minor": 5
}
