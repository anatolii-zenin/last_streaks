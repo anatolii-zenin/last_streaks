{
 "cells": [
  {
   "cell_type": "code",
   "execution_count": 1,
   "id": "acoustic-mexico",
   "metadata": {},
   "outputs": [],
   "source": [
    "import cv2\n",
    "import numpy as np\n",
    "from astropy.io import fits\n",
    "import astropy.io.fits as pyfits\n",
    "import matplotlib.pyplot as plt\n",
    "from matplotlib.colors import LogNorm\n",
    "from matplotlib import cm\n",
    "from astropy.io import fits\n",
    "from skimage.transform import hough_line, hough_line_peaks\n",
    "from skimage.transform import probabilistic_hough_line\n",
    "from skimage.feature import canny\n",
    "from skimage.draw import line\n",
    "from skimage import data\n",
    "from timeit import default_timer as timer\n",
    "from scipy.ndimage.filters import gaussian_filter\n",
    "import numpy.ma as ma\n",
    "import glob\n",
    "import os"
   ]
  },
  {
   "cell_type": "code",
   "execution_count": 2,
   "id": "daily-crest",
   "metadata": {},
   "outputs": [],
   "source": [
    "start = timer()\n",
    "#Directory where smaps of splitted images and full image is stored\n",
    "image_folder_smaps = '/home/sven/Schreibtisch/LAST/Images/last_snr_part/'\n",
    "image_folder_image = '/home/sven/Schreibtisch/LAST/Images/last_snr_new.fit'\n",
    "full_image_file = fits.open(image_folder_image)\n",
    "full_image = full_image_file[0].data\n",
    "#create empty mask for full image\n",
    "mask = np.zeros((full_image.shape[0],full_image.shape[1]))\n",
    "xmax, ymax = mask.shape\n",
    "#properties of subimages and internal stuff\n",
    "x_parts = 5\n",
    "y_parts = 10\n",
    "smap_file = fits.open(image_folder_smaps + 'last_snr_x0y0_smap.fit')\n",
    "smap = smap_file[0].data\n",
    "cutoff_smaps = np.zeros((x_parts, y_parts, smap.shape[0], smap.shape[1]))\n",
    "lines_sample = []\n",
    "global_lines = []\n",
    "#IMPORTANT: WE NEED PSF (in pixel size), \n",
    "psf=1.5"
   ]
  },
  {
   "cell_type": "code",
   "execution_count": 3,
   "id": "radio-hygiene",
   "metadata": {},
   "outputs": [],
   "source": [
    "#Load smaps from splitted input image, calculate cutoff\n",
    "line_array = np.zeros((x_parts, y_parts, 2))\n",
    "for i in range(x_parts):\n",
    "    for j in range(y_parts):\n",
    "        filename = image_folder_smaps + 'last_snr_x%d' % i + 'y%d' % j + '_smap.fit' \n",
    "        with fits.open(filename) as hdul:\n",
    "            image=hdul[0].data\n",
    "            image[np.isnan(image)] = 0\n",
    "            histogram = image.flatten()\n",
    "            \"\"\"\n",
    "            plt.hist(histogram, 100)\n",
    "            plt.xlim(0,10)\n",
    "            plt.yscale('log')\n",
    "            \"\"\"\n",
    "            try:\n",
    "                histogram=histogram[histogram < 0]\n",
    "                quantile = np.quantile(histogram, 0.32)\n",
    "            except:\n",
    "                quantile = 0\n",
    "            cutoff = abs(quantile)\n",
    "            image[image < cutoff] = 0\n",
    "            cutoff_smaps[i][j] = image\n",
    "            \"\"\"\n",
    "            plt.imshow(image, cmap='gray')\n",
    "            plt.colorbar()\n",
    "            plt.show()\n",
    "            \"\"\""
   ]
  },
  {
   "cell_type": "code",
   "execution_count": 9,
   "id": "declared-writing",
   "metadata": {},
   "outputs": [
    {
     "name": "stdout",
     "output_type": "stream",
     "text": [
      "12196\n",
      "average time0.5112705498800005\n"
     ]
    }
   ],
   "source": [
    "global_lines = []\n",
    "sumtime=0\n",
    "#Do canny and hough for line finding\n",
    "# Anatolii:\n",
    "# Changed this part to make it append global lines instead \n",
    "for i in range(cutoff_smaps.shape[0]):\n",
    "    for j in range(cutoff_smaps.shape[1]):\n",
    "        start2 = timer()\n",
    "        #edges = canny(cutoff_smaps[i][j], 5*psf, 0.8)\n",
    "        lines = list(probabilistic_hough_line(cutoff_smaps[i][j], threshold=0, line_length=int(15*psf), line_gap=int(1*psf)))\n",
    "        for k in range(len(lines)):\n",
    "            xd=abs(lines[k][0][0]-lines[k][1][0])\n",
    "            yd=abs(lines[j][0][1]-lines[j][1][1])\n",
    "            dist=np.sqrt(xd**2+yd**2)\n",
    "            if dist < 3*psf :\n",
    "                continue\n",
    "            lines[k] = list(lines[k])\n",
    "            lines[k][0] = list(lines[k][0])\n",
    "            lines[k][1] = list(lines[k][1])\n",
    "#                 print('wtf')\n",
    "#             print('not modified: %d, %d' % (lines[k][0][0], lines[k][0][1]))\n",
    "            lines[k][0][0] += j*smap.shape[1]\n",
    "            lines[k][1][0] += j*smap.shape[1]\n",
    "            lines[k][0][1] += i*smap.shape[0]\n",
    "            lines[k][1][1] += i*smap.shape[0]\n",
    "#             print(\"modified: %d, %d; i = %d, j = %d\" % (lines[k][0][0], lines[k][0][1], i, j))\n",
    "#             if(lines[k][0][0] < (i+1) * smap.shape[0] and lines[k][0][1] < (j+1) * smap.shape[1] and lines[k][1][0] < (i+1) * smap.shape[0] and lines[k][1][1] < (j+1) * smap.shape[1]):\n",
    "            global_lines.append(lines[k])\n",
    "        end2 = timer()\n",
    "        timeit=end2 - start2\n",
    "        sumtime=sumtime + timeit\n",
    "#output is list of arrays, where start and end-points of found lines are listed\n",
    "#not a list of tuples or lists?\n",
    "print(len(global_lines))\n",
    "print(\"average time\" + str(sumtime/50))"
   ]
  },
  {
   "cell_type": "code",
   "execution_count": 10,
   "id": "tired-sphere",
   "metadata": {},
   "outputs": [
    {
     "data": {
      "application/vnd.jupyter.widget-view+json": {
       "model_id": "27927f45434747dcbcd2563d958a8844",
       "version_major": 2,
       "version_minor": 0
      },
      "text/plain": [
       "Canvas(toolbar=Toolbar(toolitems=[('Home', 'Reset original view', 'home', 'home'), ('Back', 'Back to previous …"
      ]
     },
     "metadata": {},
     "output_type": "display_data"
    }
   ],
   "source": [
    "fig, axes = plt.subplots(1, 2, sharex=True, sharey=True)\n",
    "ax = axes.ravel()\n",
    "\n",
    "ax[0].imshow(full_image, cmap=cm.gray, norm=LogNorm())\n",
    "ax[0].set_title('Input image')\n",
    "\n",
    "ax[1].imshow(full_image * 0)\n",
    "for line in global_lines:\n",
    "    p0, p1 = line\n",
    "    ax[1].plot((p0[0], p1[0]), (p0[1], p1[1]))\n",
    "#ax[1].set_xlim((0,full_image.shape[1]))\n",
    "#ax[1].set_ylim((full_image.shape[0], 0))\n",
    "ax[1].set_title('Probabilistic Hough')\n",
    "\n",
    "for a in ax:\n",
    "    a.set_axis_off()\n",
    "\n",
    "plt.tight_layout()\n",
    "plt.show()\n",
    "#Here we need the code to get the global coordinates for the found lines in lines_sample\n",
    "# line_array = np.zeros((x_parts, y_parts, 2))\n",
    "# for i in range(x_parts):\n",
    "#     for j in range(y_parts):\n",
    "#         line_array[i][j][0] = lines[i*y_parts+j][0]\n",
    "#         line_array[i][j][1] = lines[i*y_parts+j][1]\n",
    "#Output should be an list of all global line coordinates (global_lines)"
   ]
  },
  {
   "cell_type": "code",
   "execution_count": 11,
   "id": "hungarian-newsletter",
   "metadata": {},
   "outputs": [],
   "source": [
    "mask = np.zeros((full_image.shape[0],full_image.shape[1]))\n",
    "#Get with start and end point of lines from hough all touching array cells\n",
    "#HERE IS A FUCKING ERROR, THERE IS SOME SHIFT IN X DIRECTION OF THE LINES\n",
    "def draw_line(mat, y0, y1, x0, x1, inplace=True):\n",
    "    if not (0 <= x0 < mat.shape[0] and 0 <= x1 < mat.shape[0] and\n",
    "            0 <= y0 < mat.shape[1] and 0 <= y1 < mat.shape[1]):\n",
    "        raise ValueError('Invalid coordinates.')\n",
    "    if not inplace:\n",
    "        mat = mat.copy()\n",
    "    if (x0, y0) == (x1, y1):\n",
    "        mat[x0, y0] = 1\n",
    "        return mat if not inplace else None\n",
    "    # Write line ends\n",
    "    mat[x0, y0] = 1\n",
    "    mat[x1, y1] = 1\n",
    "    # Compute intermediate coordinates using line equation\n",
    "    x = np.arange(x0 + 1, x1)\n",
    "    xs=x1-x0\n",
    "    ys=y1-y0\n",
    "    if (xs != 0):\n",
    "        y = np.round(ys/xs * (x - x0) + y0).astype(x.dtype)\n",
    "    else:\n",
    "        return\n",
    "    # Write intermediate coordinates\n",
    "    mat[x, y] = 1\n",
    "    if not inplace:\n",
    "        return mat if not transpose else mat.T\n",
    "\n",
    "    \n",
    "#Here we need global_lines from the missing part before\n",
    "#Place lines in the empty mask\n",
    "for line in global_lines:\n",
    "    p0, p1 = line\n",
    "#     if (p0[1] < xmax and p1[1] < ymax and p0[0] < xmax and p1[0] < ymax):\n",
    "    draw_line(mask, p0[0], p1[0], p0[1], p1[1])\n"
   ]
  },
  {
   "cell_type": "code",
   "execution_count": 12,
   "id": "backed-float",
   "metadata": {},
   "outputs": [
    {
     "name": "stdout",
     "output_type": "stream",
     "text": [
      "150.94938511500004\n"
     ]
    },
    {
     "data": {
      "application/vnd.jupyter.widget-view+json": {
       "model_id": "61b4f0dd9d0d4a16ade79bd487467454",
       "version_major": 2,
       "version_minor": 0
      },
      "text/plain": [
       "Canvas(toolbar=Toolbar(toolitems=[('Home', 'Reset original view', 'home', 'home'), ('Back', 'Back to previous …"
      ]
     },
     "metadata": {},
     "output_type": "display_data"
    }
   ],
   "source": [
    "#Fold mask with gaussian to get line width (PSF-based)\n",
    "mask = gaussian_filter(mask, sigma=int(1*psf))\n",
    "#Get masked image\n",
    "masked_image = ma.masked_where(mask >0, full_image)\n",
    "end = timer()\n",
    "print(end - start)\n",
    "\n",
    "fig, axes = plt.subplots(1, 2, sharex=True, sharey=True)\n",
    "ax = axes.ravel()\n",
    "\n",
    "ax[0].imshow(full_image, norm=LogNorm())\n",
    "ax[0].set_title('Input image')\n",
    "\n",
    "ax[1].imshow(masked_image, norm=LogNorm())\n",
    "ax[1].set_title('masked image')\n",
    "\n",
    "for a in ax:\n",
    "    a.set_axis_off()\n",
    "\n",
    "plt.tight_layout()\n",
    "plt.show()"
   ]
  },
  {
   "cell_type": "code",
   "execution_count": 8,
   "id": "accurate-portsmouth",
   "metadata": {},
   "outputs": [],
   "source": [
    "%matplotlib widget"
   ]
  }
 ],
 "metadata": {
  "kernelspec": {
   "display_name": "Python 3",
   "language": "python",
   "name": "python3"
  },
  "language_info": {
   "codemirror_mode": {
    "name": "ipython",
    "version": 3
   },
   "file_extension": ".py",
   "mimetype": "text/x-python",
   "name": "python",
   "nbconvert_exporter": "python",
   "pygments_lexer": "ipython3",
   "version": "3.9.1"
  }
 },
 "nbformat": 4,
 "nbformat_minor": 5
}
